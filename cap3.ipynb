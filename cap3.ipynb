{
 "cells": [
  {
   "cell_type": "markdown",
   "source": [
    "# Chapter 3 - Functions"
   ],
   "metadata": {
    "collapsed": false
   }
  },
  {
   "cell_type": "code",
   "execution_count": 2,
   "outputs": [
    {
     "data": {
      "text/plain": "int"
     },
     "execution_count": 2,
     "metadata": {},
     "output_type": "execute_result"
    }
   ],
   "source": [
    "type(42)\n",
    "# type -> function name\n",
    "# 42 - argument"
   ],
   "metadata": {
    "collapsed": false,
    "ExecuteTime": {
     "end_time": "2023-07-19T00:22:30.058321100Z",
     "start_time": "2023-07-19T00:22:30.055146800Z"
    }
   }
  },
  {
   "cell_type": "code",
   "execution_count": 3,
   "outputs": [
    {
     "data": {
      "text/plain": "'32.0'"
     },
     "execution_count": 3,
     "metadata": {},
     "output_type": "execute_result"
    }
   ],
   "source": [
    "# convert to integer\n",
    "int(32.0)\n",
    "\n",
    "# convert to float\n",
    "float(32)\n",
    "\n",
    "# convert to string\n",
    "str(32.0)"
   ],
   "metadata": {
    "collapsed": false,
    "ExecuteTime": {
     "end_time": "2023-07-19T00:28:01.571433600Z",
     "start_time": "2023-07-19T00:28:01.565927200Z"
    }
   }
  },
  {
   "cell_type": "markdown",
   "source": [
    "# Math functions\n",
    "There is a math module. A module is a file with several related functions.\n",
    "To use a module, we have to first import it."
   ],
   "metadata": {
    "collapsed": false
   }
  },
  {
   "cell_type": "code",
   "execution_count": 4,
   "outputs": [],
   "source": [
    "import math # This creates a module object. A module object has functions and variables defined by the module.\n",
    "# We can use the module's functions and variables with the dot notation module.function.\n",
    "\n",
    "radians = 0.7\n",
    "height = math.sin(radians)"
   ],
   "metadata": {
    "collapsed": false,
    "ExecuteTime": {
     "end_time": "2023-07-19T00:31:07.217305600Z",
     "start_time": "2023-07-19T00:31:07.210297Z"
    }
   }
  },
  {
   "cell_type": "markdown",
   "source": [
    "# Defining new functions\n",
    "We can define new functions using the def keyword and instructions after it. The first line of the function is called as header, and the other lines is the body of the function, which is indented.\n",
    "\n",
    "Inside the parenthesis, we have arguments."
   ],
   "metadata": {
    "collapsed": false
   }
  },
  {
   "cell_type": "code",
   "execution_count": 5,
   "outputs": [],
   "source": [
    "def print_lyrics(): # header\n",
    "    print(\"Desde o dia em que eu te reencontrei, me lembrei daquele lindo lugar\") # body\n",
    "    print(\"Que na minha infância era especial para mim...\") # body"
   ],
   "metadata": {
    "collapsed": false,
    "ExecuteTime": {
     "end_time": "2023-07-19T00:36:35.036266500Z",
     "start_time": "2023-07-19T00:36:35.032263700Z"
    }
   }
  },
  {
   "cell_type": "markdown",
   "source": [
    "Functions creates functions objects:"
   ],
   "metadata": {
    "collapsed": false
   }
  },
  {
   "cell_type": "code",
   "execution_count": 7,
   "outputs": [
    {
     "name": "stdout",
     "output_type": "stream",
     "text": [
      "<class 'function'>\n"
     ]
    }
   ],
   "source": [
    "print(type(print_lyrics))"
   ],
   "metadata": {
    "collapsed": false,
    "ExecuteTime": {
     "end_time": "2023-07-19T00:38:32.261943500Z",
     "start_time": "2023-07-19T00:38:32.251942800Z"
    }
   }
  },
  {
   "cell_type": "markdown",
   "source": [
    "We call functions this way:"
   ],
   "metadata": {
    "collapsed": false
   }
  },
  {
   "cell_type": "code",
   "execution_count": 8,
   "outputs": [
    {
     "name": "stdout",
     "output_type": "stream",
     "text": [
      "Desde o dia em que eu te reencontrei, me lembrei daquele lindo lugar\n",
      "Que na minha infância era especial para mim...\n"
     ]
    }
   ],
   "source": [
    "print_lyrics()"
   ],
   "metadata": {
    "collapsed": false,
    "ExecuteTime": {
     "end_time": "2023-07-19T00:39:01.366383200Z",
     "start_time": "2023-07-19T00:39:01.359879Z"
    }
   }
  },
  {
   "cell_type": "markdown",
   "source": [
    "We can use functions inside functions:"
   ],
   "metadata": {
    "collapsed": false
   }
  },
  {
   "cell_type": "code",
   "execution_count": 13,
   "outputs": [
    {
     "name": "stdout",
     "output_type": "stream",
     "text": [
      "Desde o dia em que eu te reencontrei, me lembrei daquele lindo lugar\n",
      "Que na minha infância era especial para mim...\n",
      "Desde o dia em que eu te reencontrei, me lembrei daquele lindo lugar\n",
      "Que na minha infância era especial para mim...\n"
     ]
    }
   ],
   "source": [
    "def repeat_lyrics():\n",
    "    print_lyrics()\n",
    "    print_lyrics()\n",
    "\n",
    "repeat_lyrics()\n"
   ],
   "metadata": {
    "collapsed": false,
    "ExecuteTime": {
     "end_time": "2023-07-19T00:44:21.538989900Z",
     "start_time": "2023-07-19T00:44:21.528308900Z"
    }
   }
  },
  {
   "cell_type": "code",
   "execution_count": null,
   "outputs": [],
   "source": [],
   "metadata": {
    "collapsed": false
   }
  }
 ],
 "metadata": {
  "kernelspec": {
   "display_name": "Python 3",
   "language": "python",
   "name": "python3"
  },
  "language_info": {
   "codemirror_mode": {
    "name": "ipython",
    "version": 2
   },
   "file_extension": ".py",
   "mimetype": "text/x-python",
   "name": "python",
   "nbconvert_exporter": "python",
   "pygments_lexer": "ipython2",
   "version": "2.7.6"
  }
 },
 "nbformat": 4,
 "nbformat_minor": 0
}
