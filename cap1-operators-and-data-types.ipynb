{
 "cells": [
  {
   "cell_type": "code",
   "execution_count": 1,
   "metadata": {
    "collapsed": true,
    "ExecuteTime": {
     "end_time": "2023-07-09T18:36:05.679778100Z",
     "start_time": "2023-07-09T18:36:05.664680500Z"
    }
   },
   "outputs": [
    {
     "data": {
      "text/plain": "2"
     },
     "execution_count": 1,
     "metadata": {},
     "output_type": "execute_result"
    }
   ],
   "source": [
    "1 + 1"
   ]
  },
  {
   "cell_type": "markdown",
   "source": [
    "# First program ~~just kidding, it's not my first~~"
   ],
   "metadata": {
    "collapsed": false
   }
  },
  {
   "cell_type": "code",
   "execution_count": 2,
   "outputs": [
    {
     "name": "stdout",
     "output_type": "stream",
     "text": [
      "Hello, world!\n"
     ]
    }
   ],
   "source": [
    "# Of course, it's a Hello, World!\n",
    "print(\"Hello, world!\")"
   ],
   "metadata": {
    "collapsed": false,
    "ExecuteTime": {
     "end_time": "2023-07-09T18:40:00.857207300Z",
     "start_time": "2023-07-09T18:40:00.851709400Z"
    }
   }
  },
  {
   "cell_type": "markdown",
   "source": [
    "# Arithmetic operators"
   ],
   "metadata": {
    "collapsed": false
   }
  },
  {
   "cell_type": "markdown",
   "source": [
    "Addition: +\n",
    "Subtraction: -\n",
    "Multiplication: *\n",
    "Division: /\n",
    "Exponentiation: **"
   ],
   "metadata": {
    "collapsed": false
   }
  },
  {
   "cell_type": "code",
   "execution_count": 8,
   "outputs": [
    {
     "data": {
      "text/plain": "12"
     },
     "execution_count": 8,
     "metadata": {},
     "output_type": "execute_result"
    }
   ],
   "source": [
    "# Addition\n",
    "6 + 6"
   ],
   "metadata": {
    "collapsed": false,
    "ExecuteTime": {
     "end_time": "2023-07-09T18:54:04.770799900Z",
     "start_time": "2023-07-09T18:54:04.767294700Z"
    }
   }
  },
  {
   "cell_type": "code",
   "execution_count": 9,
   "outputs": [
    {
     "data": {
      "text/plain": "12"
     },
     "execution_count": 9,
     "metadata": {},
     "output_type": "execute_result"
    }
   ],
   "source": [
    "# Subtraction\n",
    "18 - 6"
   ],
   "metadata": {
    "collapsed": false,
    "ExecuteTime": {
     "end_time": "2023-07-09T18:54:15.277317Z",
     "start_time": "2023-07-09T18:54:15.272643400Z"
    }
   }
  },
  {
   "cell_type": "code",
   "execution_count": 10,
   "outputs": [
    {
     "data": {
      "text/plain": "12"
     },
     "execution_count": 10,
     "metadata": {},
     "output_type": "execute_result"
    }
   ],
   "source": [
    "# Multiplication\n",
    "4 * 3"
   ],
   "metadata": {
    "collapsed": false,
    "ExecuteTime": {
     "end_time": "2023-07-09T18:54:29.789044200Z",
     "start_time": "2023-07-09T18:54:29.783513700Z"
    }
   }
  },
  {
   "cell_type": "code",
   "execution_count": 12,
   "outputs": [
    {
     "data": {
      "text/plain": "12.0"
     },
     "execution_count": 12,
     "metadata": {},
     "output_type": "execute_result"
    }
   ],
   "source": [
    "# Division\n",
    "24 / 2"
   ],
   "metadata": {
    "collapsed": false,
    "ExecuteTime": {
     "end_time": "2023-07-09T18:54:50.193195800Z",
     "start_time": "2023-07-09T18:54:50.187387200Z"
    }
   }
  },
  {
   "cell_type": "code",
   "execution_count": 139,
   "outputs": [
    {
     "data": {
      "text/plain": "12.0"
     },
     "execution_count": 139,
     "metadata": {},
     "output_type": "execute_result"
    }
   ],
   "source": [
    "# Exponentiation\n",
    "2 ** 3.584962500721156"
   ],
   "metadata": {
    "collapsed": false,
    "ExecuteTime": {
     "end_time": "2023-07-09T19:01:44.332254700Z",
     "start_time": "2023-07-09T19:01:44.329731700Z"
    }
   }
  },
  {
   "cell_type": "markdown",
   "source": [
    "# Values and Types\n",
    "Above we have several values of different types.\n",
    "We can check the type of a determined value using `type()` function.\n",
    "Some of the most common types are integer numbers (`int`), floating point numbers (`float`) and strings (`str`)."
   ],
   "metadata": {
    "collapsed": false
   }
  },
  {
   "cell_type": "code",
   "execution_count": 141,
   "outputs": [
    {
     "data": {
      "text/plain": "int"
     },
     "execution_count": 141,
     "metadata": {},
     "output_type": "execute_result"
    }
   ],
   "source": [
    "# Type of integer number.\n",
    "type(12)"
   ],
   "metadata": {
    "collapsed": false,
    "ExecuteTime": {
     "end_time": "2023-07-09T19:12:34.724155300Z",
     "start_time": "2023-07-09T19:12:34.720602100Z"
    }
   }
  },
  {
   "cell_type": "code",
   "execution_count": 142,
   "outputs": [
    {
     "data": {
      "text/plain": "float"
     },
     "execution_count": 142,
     "metadata": {},
     "output_type": "execute_result"
    }
   ],
   "source": [
    "# Type of float number.\n",
    "type(12.0)"
   ],
   "metadata": {
    "collapsed": false,
    "ExecuteTime": {
     "end_time": "2023-07-09T19:13:48.074088200Z",
     "start_time": "2023-07-09T19:13:48.060090500Z"
    }
   }
  },
  {
   "cell_type": "code",
   "execution_count": 144,
   "outputs": [
    {
     "data": {
      "text/plain": "str"
     },
     "execution_count": 144,
     "metadata": {},
     "output_type": "execute_result"
    }
   ],
   "source": [
    "# Type of string\n",
    "type(\"Hello, world!\")\n",
    "type(\"12\")\n",
    "type(\"12.0\")"
   ],
   "metadata": {
    "collapsed": false,
    "ExecuteTime": {
     "end_time": "2023-07-09T19:14:50.045885800Z",
     "start_time": "2023-07-09T19:14:50.039388500Z"
    }
   }
  },
  {
   "cell_type": "markdown",
   "source": [
    "# Exercises\n",
    "## 1.1\n",
    "__1 -__ Em uma instrução print, o que acontece se você omitir um dos parênteses ou ambos?\n",
    "\n",
    "__EN:__ In a print statement, what happens if you omit one or both of the parentheses?"
   ],
   "metadata": {
    "collapsed": false
   }
  },
  {
   "cell_type": "code",
   "execution_count": 146,
   "outputs": [
    {
     "ename": "SyntaxError",
     "evalue": "incomplete input (619309687.py, line 1)",
     "output_type": "error",
     "traceback": [
      "\u001B[1;36m  Cell \u001B[1;32mIn[146], line 1\u001B[1;36m\u001B[0m\n\u001B[1;33m    print(\"teste\"\u001B[0m\n\u001B[1;37m                 ^\u001B[0m\n\u001B[1;31mSyntaxError\u001B[0m\u001B[1;31m:\u001B[0m incomplete input\n"
     ]
    }
   ],
   "source": [
    "print(\"teste\""
   ],
   "metadata": {
    "collapsed": false,
    "ExecuteTime": {
     "end_time": "2023-07-09T19:52:23.835737400Z",
     "start_time": "2023-07-09T19:52:23.825652500Z"
    }
   }
  },
  {
   "cell_type": "markdown",
   "source": [
    "__Answer:__ I receive an syntax error: `SyntaxError: incomplete input` because my input was incomplete."
   ],
   "metadata": {
    "collapsed": false
   }
  },
  {
   "cell_type": "markdown",
   "source": [
    "__2 -__ Se estiver tentando imprimir uma string, o que acontece se omitir uma das aspas ou ambas?\n",
    "\n",
    "__EN:__ If you are trying to print a string, what happens if you omit one of the quotation marks or both?"
   ],
   "metadata": {
    "collapsed": false
   }
  },
  {
   "cell_type": "code",
   "execution_count": 148,
   "outputs": [
    {
     "ename": "SyntaxError",
     "evalue": "unterminated string literal (detected at line 1) (1700525702.py, line 1)",
     "output_type": "error",
     "traceback": [
      "\u001B[1;36m  Cell \u001B[1;32mIn[148], line 1\u001B[1;36m\u001B[0m\n\u001B[1;33m    print(\"teste\u001B[0m\n\u001B[1;37m          ^\u001B[0m\n\u001B[1;31mSyntaxError\u001B[0m\u001B[1;31m:\u001B[0m unterminated string literal (detected at line 1)\n"
     ]
    }
   ],
   "source": [
    "print(\"teste"
   ],
   "metadata": {
    "collapsed": false,
    "ExecuteTime": {
     "end_time": "2023-07-09T19:53:53.012050800Z",
     "start_time": "2023-07-09T19:53:53.005177800Z"
    }
   }
  },
  {
   "cell_type": "markdown",
   "source": [
    "__Answer:__ I receive an syntax error: `SyntaxError: unterminated string literal` because I didn't ended my string."
   ],
   "metadata": {
    "collapsed": false
   }
  },
  {
   "cell_type": "markdown",
   "source": [
    "__3 -__ Você pode usar um sinal de menos para fazer um número negativo como -2. O que acontece se puser um sinal de mais antes de um número? E se escrever assim: 2++2?\n",
    "\n",
    "__EN:__ You can use a negative sign to make a negetive number, like -2. What happens if you put a plus sign before a number? And what if you write this way: 2++2?"
   ],
   "metadata": {
    "collapsed": false
   }
  },
  {
   "cell_type": "code",
   "execution_count": 151,
   "outputs": [
    {
     "data": {
      "text/plain": "2"
     },
     "execution_count": 151,
     "metadata": {},
     "output_type": "execute_result"
    }
   ],
   "source": [
    "+2"
   ],
   "metadata": {
    "collapsed": false,
    "ExecuteTime": {
     "end_time": "2023-07-09T19:58:22.831052600Z",
     "start_time": "2023-07-09T19:58:22.822245Z"
    }
   }
  },
  {
   "cell_type": "code",
   "execution_count": 158,
   "outputs": [
    {
     "data": {
      "text/plain": "4"
     },
     "execution_count": 158,
     "metadata": {},
     "output_type": "execute_result"
    }
   ],
   "source": [
    "2--2"
   ],
   "metadata": {
    "collapsed": false,
    "ExecuteTime": {
     "end_time": "2023-07-09T19:59:14.375837800Z",
     "start_time": "2023-07-09T19:59:14.368253200Z"
    }
   }
  },
  {
   "cell_type": "markdown",
   "source": [
    "__Answer:__ It seems that nothing really happens. It's correct."
   ],
   "metadata": {
    "collapsed": false
   }
  },
  {
   "cell_type": "markdown",
   "source": [
    "__4 -__ Na notação matemática, zeros à esquerda são aceitáveis, como em 02. O que aontece se você tentar usar isso no Python?\n",
    "\n",
    "__EN:__ In mathematical notation, leading zeros are acceptable, as in 02. What happens if you try to use this in Python?"
   ],
   "metadata": {
    "collapsed": false
   }
  },
  {
   "cell_type": "code",
   "execution_count": 159,
   "outputs": [
    {
     "ename": "SyntaxError",
     "evalue": "leading zeros in decimal integer literals are not permitted; use an 0o prefix for octal integers (224208073.py, line 1)",
     "output_type": "error",
     "traceback": [
      "\u001B[1;36m  Cell \u001B[1;32mIn[159], line 1\u001B[1;36m\u001B[0m\n\u001B[1;33m    02\u001B[0m\n\u001B[1;37m    ^\u001B[0m\n\u001B[1;31mSyntaxError\u001B[0m\u001B[1;31m:\u001B[0m leading zeros in decimal integer literals are not permitted; use an 0o prefix for octal integers\n"
     ]
    }
   ],
   "source": [
    "02"
   ],
   "metadata": {
    "collapsed": false,
    "ExecuteTime": {
     "end_time": "2023-07-09T20:01:05.044024900Z",
     "start_time": "2023-07-09T20:01:05.034577500Z"
    }
   }
  },
  {
   "cell_type": "markdown",
   "source": [
    "__Answer:__ I receive a syntax error: `SyntaxError: leading zeros in decimal integer literals are not permitted` because leading zeros isn't permitted."
   ],
   "metadata": {
    "collapsed": false
   }
  },
  {
   "cell_type": "markdown",
   "source": [
    "__5 -__ O que acontece se você tiver dois valores sem nenhum operador entre eles?\n",
    "\n",
    "__EN:__ What happens if you have two values without any operator between them?"
   ],
   "metadata": {
    "collapsed": false
   }
  },
  {
   "cell_type": "code",
   "execution_count": null,
   "outputs": [],
   "source": [
    "5 6"
   ],
   "metadata": {
    "collapsed": false
   }
  },
  {
   "cell_type": "markdown",
   "source": [
    "__Answer:__ I receive a syntax error: `SyntaxError: invalid syntax` because this isn't permitted."
   ],
   "metadata": {
    "collapsed": false
   }
  },
  {
   "cell_type": "markdown",
   "source": [
    "## Exercise 1.2\n",
    "Inicialize o interpretador do Python e use-o como uma calculadora.\n",
    "\n",
    "__EN:__ Start the Python interpreter and use it as a calculator.\n",
    "\n",
    "\n",
    "__1 -__ Quantos segundos há em 42 minutos e 42 segundos?\n",
    "\n",
    "__EN:__ How many seconds are there in 42 minutes and 42 seconds?"
   ],
   "metadata": {
    "collapsed": false
   }
  },
  {
   "cell_type": "code",
   "execution_count": 164,
   "outputs": [
    {
     "data": {
      "text/plain": "2562"
     },
     "execution_count": 164,
     "metadata": {},
     "output_type": "execute_result"
    }
   ],
   "source": [
    "(42 * 60) + 42"
   ],
   "metadata": {
    "collapsed": false,
    "ExecuteTime": {
     "end_time": "2023-07-09T20:09:33.813261700Z",
     "start_time": "2023-07-09T20:09:33.808242600Z"
    }
   }
  },
  {
   "cell_type": "markdown",
   "source": [
    "__2 -__ Quantas milhas há em 10 quilômetros? Dica: uma milha equivale a 1.61 quilômetro.\n",
    "\n",
    "__EN:__ How many miles are there in 10 kilometers? Hint: one mile is equal to 1.61 kilometers."
   ],
   "metadata": {
    "collapsed": false
   }
  },
  {
   "cell_type": "code",
   "execution_count": 175,
   "outputs": [
    {
     "data": {
      "text/plain": "6.211180124223602"
     },
     "execution_count": 175,
     "metadata": {},
     "output_type": "execute_result"
    }
   ],
   "source": [
    "10 / 1.61"
   ],
   "metadata": {
    "collapsed": false,
    "ExecuteTime": {
     "end_time": "2023-07-09T20:17:07.071494100Z",
     "start_time": "2023-07-09T20:17:07.042427700Z"
    }
   }
  },
  {
   "cell_type": "markdown",
   "source": [
    "__3 -__ Se você correr 10 quilômetros em 42 minutos e 42 segundos, qual é o seu passo médio (tempo por milha em minutos e segundos)? Qual é a sua velocidade média em milhas por hora?\n",
    "\n",
    "__EN:__ If you run 10 kilometers in 42 minutes and 42 seconds, what is your average pace (time per mile in minutes and seconds)? What is your average speed in miles per hour?"
   ],
   "metadata": {
    "collapsed": false
   }
  },
  {
   "cell_type": "code",
   "execution_count": 176,
   "outputs": [
    {
     "data": {
      "text/plain": "6.87489937208179"
     },
     "execution_count": 176,
     "metadata": {},
     "output_type": "execute_result"
    }
   ],
   "source": [
    "# Average pace\n",
    "(2562 / 60) / 6.211"
   ],
   "metadata": {
    "collapsed": false,
    "ExecuteTime": {
     "end_time": "2023-07-09T20:17:52.331201500Z",
     "start_time": "2023-07-09T20:17:52.307987800Z"
    }
   }
  },
  {
   "cell_type": "code",
   "execution_count": 183,
   "outputs": [
    {
     "data": {
      "text/plain": "8.727400468384076"
     },
     "execution_count": 183,
     "metadata": {},
     "output_type": "execute_result"
    }
   ],
   "source": [
    "# Average speed\n",
    "6.211 / (2562 / 60 / 60)"
   ],
   "metadata": {
    "collapsed": false,
    "ExecuteTime": {
     "end_time": "2023-07-09T20:20:54.364390600Z",
     "start_time": "2023-07-09T20:20:54.354592800Z"
    }
   }
  }
 ],
 "metadata": {
  "kernelspec": {
   "display_name": "Python 3",
   "language": "python",
   "name": "python3"
  },
  "language_info": {
   "codemirror_mode": {
    "name": "ipython",
    "version": 2
   },
   "file_extension": ".py",
   "mimetype": "text/x-python",
   "name": "python",
   "nbconvert_exporter": "python",
   "pygments_lexer": "ipython2",
   "version": "2.7.6"
  }
 },
 "nbformat": 4,
 "nbformat_minor": 0
}
